{
 "cells": [
  {
   "cell_type": "code",
   "execution_count": 15,
   "metadata": {},
   "outputs": [],
   "source": [
    "from scipy.integrate import odeint\n",
    "import numpy as np\n",
    "import matplotlib.pyplot as plt\n",
    "from scipy.optimize import root,fsolve\n",
    "import matplotlib.pyplot as plt\n",
    "%matplotlib inline\n",
    "import pandas as pd\n",
    "import os"
   ]
  },
  {
   "cell_type": "code",
   "execution_count": 2,
   "metadata": {
    "collapsed": true,
    "jupyter": {
     "outputs_hidden": true,
     "source_hidden": true
    }
   },
   "outputs": [
    {
     "name": "stdout",
     "output_type": "stream",
     "text": [
      "[-3319.1198119]\n",
      "[14643.89392131]\n",
      "[-9997.71250365]\n"
     ]
    },
    {
     "data": {
      "text/plain": [
       "array([1209.33029053,  587.02356327,  369.35437908,  745.04084551,\n",
       "       1382.24290817, 1587.06989692, 2155.26693601, 1676.77805761,\n",
       "       2740.87800159,  817.80899893, 3512.46974556,  109.55037279])"
      ]
     },
     "execution_count": 2,
     "metadata": {},
     "output_type": "execute_result"
    }
   ],
   "source": [
    "np.random.seed(1)\n",
    "    #nois_dist = np.random.\n",
    "    #axis = np.random.uniform(low,high,(num,3))\n",
    "print(np.random.uniform(-20000,20000,size=(1,)))\n",
    "print(np.random.uniform(6000,18000,size =(1,)))\n",
    "print(np.random.uniform(-10000,10000,size =(1,)))\n",
    "np.random.uniform(0,4000,size =(12,))"
   ]
  },
  {
   "cell_type": "code",
   "execution_count": 94,
   "metadata": {
    "collapsed": true,
    "jupyter": {
     "outputs_hidden": true,
     "source_hidden": true
    }
   },
   "outputs": [
    {
     "data": {
      "text/plain": [
       "array([[1., 2., 3.],\n",
       "       [1., 2., 3.],\n",
       "       [1., 2., 3.]])"
      ]
     },
     "execution_count": 94,
     "metadata": {},
     "output_type": "execute_result"
    }
   ],
   "source": [
    "np.array((1,2,3)).reshape(1,3) -np.zeros((3,3))"
   ]
  },
  {
   "cell_type": "code",
   "execution_count": 88,
   "metadata": {
    "collapsed": true,
    "jupyter": {
     "outputs_hidden": true,
     "source_hidden": true
    }
   },
   "outputs": [
    {
     "data": {
      "text/plain": [
       "array([ 0.00315281, -0.00253832, -0.00627945, -0.00219859, -0.00139763,\n",
       "        0.00682319, -0.00424491, -0.0020083 , -0.00300981, -0.00607778,\n",
       "        0.0004164 , -0.00062512])"
      ]
     },
     "execution_count": 88,
     "metadata": {},
     "output_type": "execute_result"
    }
   ],
   "source": [
    "np.random.normal(0,dX,(num,))"
   ]
  },
  {
   "cell_type": "code",
   "execution_count": 23,
   "metadata": {
    "jupyter": {
     "source_hidden": true
    }
   },
   "outputs": [],
   "source": [
    "np.random.normal(0,dL,(num,));"
   ]
  },
  {
   "cell_type": "code",
   "execution_count": 3,
   "metadata": {},
   "outputs": [],
   "source": [
    "8*np.arange(0,7,1) +4;"
   ]
  },
  {
   "cell_type": "code",
   "execution_count": 4,
   "metadata": {},
   "outputs": [
    {
     "name": "stdout",
     "output_type": "stream",
     "text": [
      "4 [8.60313976 4.06179954 2.82596356] 9.924630940063436 9.513791529699938\n",
      "8 [4.79135136 7.80404596 2.02323567] 9.378361463371865 9.157520470077603\n",
      "12 [ 4.15107392 12.92085584  1.70861166] 13.678424037668927 13.571290666402302\n",
      "16 [ 3.0882686  12.18797322  1.14256325] 12.624957222267682 12.573149727790131\n"
     ]
    }
   ],
   "source": [
    "#print(myint) 正侧\n",
    "iters =20000\n",
    "angle = 20\n",
    "y_axis = 0\n",
    "z_axis = 10000\n",
    "x_axis = 0\n",
    "\n",
    "numGrp = 4*np.arange(1,5,1) #+4#2*np.arange(2,24,2)\n",
    "#numGrp=[4]\n",
    "result = []\n",
    "for num in numGrp:\n",
    "    calu = np.zeros(3)\n",
    "    for i in range(iters):\n",
    "        myint = np.random.randint(0,20000)\n",
    "        np.random.seed(myint)\n",
    "\n",
    "        Paxis = np.zeros((num,3))\n",
    "        Daxis = np.zeros((num,3))\n",
    "\n",
    "        xyz0 = np.array((x_axis,y_axis,z_axis)).squeeze()\n",
    "\n",
    "        dX = 0.03*100\n",
    "        dY = 0.03*100\n",
    "        dZ = 0.05*100\n",
    "        dL = 0.02*100  #0.02\n",
    "        # print(x_axis)\n",
    "        # print(y_axis)\n",
    "        # print(z_axis)\n",
    "        Daxis[:,0] = np.random.normal(0,dX,(num,))\n",
    "        Daxis[:,1] = np.random.normal(0,dY,(num,))\n",
    "        Daxis[:,2] = np.random.normal(0,dZ,(num,))\n",
    "        DL = np.random.normal(0,dL,(num,))\n",
    "        #print(DL)\n",
    "\n",
    "        dx0 = z_axis*np.tan(angle*np.pi/180)\n",
    "        dx1 = dx0 + 1000 #5000 \n",
    "        #print(dx0, dx1)\n",
    "\n",
    "        #dz0 = z_axis*np.tan(20*np.pi/180)\n",
    "        #dz1 =dz0 + 2500\n",
    "        \n",
    "        Paxis[:,0] = np.random.uniform(dx0, dx1,size =(num,))\n",
    "        #print(Paxis)\n",
    "        Paxis[:,1] = 0 #np.random.uniform(-1500, 1500,size =(num,)) #0\n",
    "        Paxis[:,2] = 0 #np.random.uniform(0, 0,size =(num,))  \n",
    "        #Paxis[:num//2+1,0] = -Paxis[:num//2+1,0]\n",
    "        Paxis[:num//2,0] = -Paxis[:num//2,0]\n",
    "        \n",
    "        distL0 = np.sqrt( (x_axis-Paxis[:,0])**2 + (y_axis-Paxis[:,1])**2+ (z_axis-Paxis[:,2])**2 )\n",
    "        #print(distL0)\n",
    "        distL1 = distL0 + DL\n",
    "        distL1 = distL1.reshape(num,1)\n",
    "        #print(distL1)\n",
    "        ##########################\n",
    "        #print(Paxis)\n",
    "        Paxis += Daxis\n",
    "        #print(Paxis)\n",
    "        results = []\n",
    "\n",
    "\n",
    "        def f5(x):\n",
    "            m = np.array((x[0],x[1],x[2]),dtype = np.float64).reshape(1,3)\n",
    "            minus = (m - Paxis)\n",
    "        #    print('###################')\n",
    "        #    print(Paxis)\n",
    "        #    print('#####################')\n",
    "            k = np.concatenate((minus**2, -distL1**2),axis = 1)\n",
    "            l = np.sum(k,keepdims = True,axis =1).reshape(-1,1)\n",
    "            return np.sum(l * minus,axis = 0)\n",
    "\n",
    "        #Sxyz_tmp = root(f5,[x_axis,y_axis,z_axis])\n",
    "\n",
    "        Sxyz = fsolve(f5,[x_axis,y_axis,z_axis])\n",
    "\n",
    "        #D1xyz = Sxyz_tmp.x -xyz0\n",
    "        Dxyz = (Sxyz - xyz0)**2\n",
    "        calu += Dxyz\n",
    "        #print(xyz0)\n",
    "        #print(Sxyz)\n",
    "    calu /= iters\n",
    "    #print(np.concatenate((np.array((num,)),np.sqrt(calu), np.sqrt(np.sum(calu)),np.sqrt(np.sum(calu[0:2])))))\n",
    "    result.append(num)\n",
    "    result += np.sqrt(calu).tolist()\n",
    "    result.append(np.sqrt(np.sum(calu)))\n",
    "    result.append(np.sqrt(np.sum(calu[0:2])))\n",
    "    print(num, np.sqrt(calu), np.sqrt(np.sum(calu)),np.sqrt(np.sum(calu[0:2])))\n",
    "        #print(D1xyz)"
   ]
  },
  {
   "cell_type": "code",
   "execution_count": 18,
   "metadata": {},
   "outputs": [],
   "source": [
    "def ToExcel(result,file_path):\n",
    "    mode = 'a' if os.path.exists(file_path) else 'w'\n",
    "    writer = pd.ExcelWriter(file_path,mode=mode)\n",
    "    result.to_excel(writer, index=False,encoding='utf-8',sheet_name='Sheet')\n",
    "    writer.save()\n",
    "result = pd.DataFrame(np.array(result).reshape(-1,6),columns=['NUM','σ_X','σ_Y','σ_Z','σ_R','σ_XY'],)\n",
    "file_path = 'C://Users//gao//Desktop//1.xlsx'"
   ]
  },
  {
   "cell_type": "code",
   "execution_count": 22,
   "metadata": {},
   "outputs": [],
   "source": [
    "ToExcel(result,file_path)"
   ]
  },
  {
   "cell_type": "code",
   "execution_count": 60,
   "metadata": {},
   "outputs": [
    {
     "name": "stdout",
     "output_type": "stream",
     "text": [
      "4 [130.76304654 127.34952949  10.80689804] 182.8487518277908 182.5291127454484\n",
      "12 [30.3943958  29.76667092  3.19269208] 42.66224650292494 42.542613859090885\n",
      "20 [24.3866226  23.56347426  2.48582245] 34.001823394107774 33.910834269495\n",
      "28 [18.41565761 17.6068813   1.57394607] 25.526770664166186 25.4782007668851\n",
      "36 [16.85366794 16.41990214  1.77831078] 23.597069705150258 23.529966201296595\n",
      "44 [16.58783984 15.76916437  1.73032023] 22.952494059209265 22.887179280992925\n",
      "52 [12.99272254 12.93636705  1.25737055] 18.37774229803184 18.33467837948326\n"
     ]
    }
   ],
   "source": [
    "######################前左+后右##################\n",
    "iters =20000\n",
    "angle = 40\n",
    "y_axis = 0\n",
    "z_axis = 10000\n",
    "x_axis = 0\n",
    "\n",
    "numGrp = 8*np.arange(0,7,1) +4#2*np.arange(2,24,2)\n",
    "#numGrp=[4]\n",
    "result = []\n",
    "for num in numGrp:\n",
    "    calu = np.zeros(3)\n",
    "    for i in range(iters):\n",
    "        myint = np.random.randint(0,20000)\n",
    "        np.random.seed(myint)\n",
    "\n",
    "        Paxis = np.zeros((num,3))\n",
    "        Daxis = np.zeros((num,3))\n",
    "\n",
    "        xyz0 = np.array((x_axis,y_axis,z_axis)).squeeze()\n",
    "\n",
    "        dX = 0.05*100\n",
    "        dY = 0.05*100\n",
    "        dZ = 0.05*100\n",
    "        dL = 0.03*100  #0.02\n",
    "        # print(x_axis)\n",
    "        # print(y_axis)\n",
    "        # print(z_axis)\n",
    "        Daxis[:,0] = np.random.normal(0,dX,(num,))\n",
    "        Daxis[:,1] = np.random.normal(0,dY,(num,))\n",
    "        Daxis[:,2] = np.random.normal(0,dZ,(num,))\n",
    "        DL = np.random.normal(0,dL,(num,))\n",
    "        #print(DL)\n",
    "\n",
    "        dx0 = z_axis*np.tan(angle*np.pi/180)\n",
    "        dx1 = dx0 + 2500 #2500\n",
    "        #print(dx0, dx1)\n",
    "\n",
    "        dz0 = z_axis*np.tan(40*np.pi/180)\n",
    "        dz1 =dz0 +3000\n",
    "        \n",
    "        Paxis[:,0] = np.random.uniform(dx0, dx1,size =(num,))\n",
    "        #print(Paxis)\n",
    "        Paxis[:num,1] = -np.random.uniform(dz0, dz1,size =(num,))#np.random.uniform(0, 3000,size =(num,)) \n",
    "        #0 #np.random.uniform(dz0, dz1,size =(num//2,))\n",
    "        Paxis[:,2] = 0 #np.random.uniform(0, 0,size =(num,))  \n",
    "        #Paxis[:num//2+1,0] = -Paxis[:num//2+1,0]\n",
    "        Paxis[:num//2,0] = -Paxis[:num//2,0]\n",
    "        Paxis[:num//2,1] = -Paxis[:num//2,1]\n",
    "        \n",
    "        distL0 = np.sqrt( (x_axis-Paxis[:,0])**2 + (y_axis-Paxis[:,1])**2+ (z_axis-Paxis[:,2])**2 )\n",
    "        #print(distL0)\n",
    "        distL1 = distL0 + DL\n",
    "        distL1 = distL1.reshape(num,1)\n",
    "        #print(distL1)\n",
    "        ##########################\n",
    "        #print(Paxis)\n",
    "        Paxis += Daxis\n",
    "        #print(Paxis)\n",
    "        results = []\n",
    "\n",
    "\n",
    "        def f5(x):\n",
    "            m = np.array((x[0],x[1],x[2]),dtype = np.float64).reshape(1,3)\n",
    "            minus = (m - Paxis)\n",
    "        #    print('###################')\n",
    "        #    print(Paxis)\n",
    "        #    print('#####################')\n",
    "            k = np.concatenate((minus**2, -distL1**2),axis = 1)\n",
    "            l = np.sum(k,keepdims = True,axis =1).reshape(-1,1)\n",
    "            return np.sum(l * minus,axis = 0)\n",
    "\n",
    "        #Sxyz_tmp = root(f5,[x_axis,y_axis,z_axis])\n",
    "\n",
    "        Sxyz = fsolve(f5,[x_axis,y_axis,z_axis])\n",
    "\n",
    "        #D1xyz = Sxyz_tmp.x -xyz0\n",
    "        Dxyz = (Sxyz - xyz0)**2\n",
    "        calu += Dxyz\n",
    "        #print(xyz0)\n",
    "        #print(Sxyz)\n",
    "    calu /= iters\n",
    "    #print(np.concatenate((np.array((num,)),np.sqrt(calu), np.sqrt(np.sum(calu)),np.sqrt(np.sum(calu[0:2])))))\n",
    "    result.append(num)\n",
    "    result += np.sqrt(calu).tolist()\n",
    "    result.append(np.sqrt(np.sum(calu)))\n",
    "    result.append(np.sqrt(np.sum(calu[0:2])))\n",
    "    print(num, np.sqrt(calu), np.sqrt(np.sum(calu)),np.sqrt(np.sum(calu[0:2])))\n",
    "        #print(D1xyz)"
   ]
  },
  {
   "cell_type": "code",
   "execution_count": 61,
   "metadata": {},
   "outputs": [],
   "source": [
    "result = pd.DataFrame(np.array(result).reshape(-1,6),columns=['NUM','σ_X','σ_Y','σ_Z','σ_R','σ_XY'],)\n",
    "file_path = 'C://Users//gao//Desktop//1.xlsx'\n",
    "writer = pd.ExcelWriter(file_path)\n",
    "result.to_excel(writer, index=False,encoding='utf-8',sheet_name='Sheet')\n",
    "writer.save()"
   ]
  },
  {
   "cell_type": "code",
   "execution_count": 20,
   "metadata": {},
   "outputs": [
    {
     "name": "stdout",
     "output_type": "stream",
     "text": [
      "4 [ 6.44461736 68.07174584  6.76657068] 68.71013136957556 68.37613380451013\n",
      "12 [ 2.32431934 13.81771189  1.79927873] 14.126890181832973 14.01183864681278\n",
      "20 [1.5935153  8.26065664 1.52066066] 8.549277626613279 8.412950676392862\n",
      "28 [2.01600875 2.42179835 1.14460135] 3.3525379604681493 3.151094814125687\n"
     ]
    },
    {
     "ename": "KeyboardInterrupt",
     "evalue": "",
     "output_type": "error",
     "traceback": [
      "\u001b[1;31m---------------------------------------------------------------------------\u001b[0m",
      "\u001b[1;31mKeyboardInterrupt\u001b[0m                         Traceback (most recent call last)",
      "\u001b[1;32m<ipython-input-20-e78b7d269ca4>\u001b[0m in \u001b[0;36m<module>\u001b[1;34m\u001b[0m\n\u001b[0;32m     30\u001b[0m         \u001b[0mDaxis\u001b[0m\u001b[1;33m[\u001b[0m\u001b[1;33m:\u001b[0m\u001b[1;33m,\u001b[0m\u001b[1;36m1\u001b[0m\u001b[1;33m]\u001b[0m \u001b[1;33m=\u001b[0m \u001b[0mnp\u001b[0m\u001b[1;33m.\u001b[0m\u001b[0mrandom\u001b[0m\u001b[1;33m.\u001b[0m\u001b[0mnormal\u001b[0m\u001b[1;33m(\u001b[0m\u001b[1;36m0\u001b[0m\u001b[1;33m,\u001b[0m\u001b[0mdY\u001b[0m\u001b[1;33m,\u001b[0m\u001b[1;33m(\u001b[0m\u001b[0mnum\u001b[0m\u001b[1;33m,\u001b[0m\u001b[1;33m)\u001b[0m\u001b[1;33m)\u001b[0m\u001b[1;33m\u001b[0m\u001b[1;33m\u001b[0m\u001b[0m\n\u001b[0;32m     31\u001b[0m         \u001b[0mDaxis\u001b[0m\u001b[1;33m[\u001b[0m\u001b[1;33m:\u001b[0m\u001b[1;33m,\u001b[0m\u001b[1;36m2\u001b[0m\u001b[1;33m]\u001b[0m \u001b[1;33m=\u001b[0m \u001b[0mnp\u001b[0m\u001b[1;33m.\u001b[0m\u001b[0mrandom\u001b[0m\u001b[1;33m.\u001b[0m\u001b[0mnormal\u001b[0m\u001b[1;33m(\u001b[0m\u001b[1;36m0\u001b[0m\u001b[1;33m,\u001b[0m\u001b[0mdZ\u001b[0m\u001b[1;33m,\u001b[0m\u001b[1;33m(\u001b[0m\u001b[0mnum\u001b[0m\u001b[1;33m,\u001b[0m\u001b[1;33m)\u001b[0m\u001b[1;33m)\u001b[0m\u001b[1;33m\u001b[0m\u001b[1;33m\u001b[0m\u001b[0m\n\u001b[1;32m---> 32\u001b[1;33m         \u001b[0mDL\u001b[0m \u001b[1;33m=\u001b[0m \u001b[0mnp\u001b[0m\u001b[1;33m.\u001b[0m\u001b[0mrandom\u001b[0m\u001b[1;33m.\u001b[0m\u001b[0mnormal\u001b[0m\u001b[1;33m(\u001b[0m\u001b[1;36m0\u001b[0m\u001b[1;33m,\u001b[0m\u001b[0mdL\u001b[0m\u001b[1;33m,\u001b[0m\u001b[1;33m(\u001b[0m\u001b[0mnum\u001b[0m\u001b[1;33m,\u001b[0m\u001b[1;33m)\u001b[0m\u001b[1;33m)\u001b[0m\u001b[1;33m\u001b[0m\u001b[1;33m\u001b[0m\u001b[0m\n\u001b[0m\u001b[0;32m     33\u001b[0m         \u001b[1;31m#print(DL)\u001b[0m\u001b[1;33m\u001b[0m\u001b[1;33m\u001b[0m\u001b[1;33m\u001b[0m\u001b[0m\n\u001b[0;32m     34\u001b[0m \u001b[1;33m\u001b[0m\u001b[0m\n",
      "\u001b[1;31mKeyboardInterrupt\u001b[0m: "
     ]
    }
   ],
   "source": [
    "###########前后#######\n",
    "iters =20000\n",
    "angle = 40\n",
    "y_axis = 0\n",
    "z_axis = 10000\n",
    "x_axis = 0\n",
    "\n",
    "numGrp = 8*np.arange(0,7,1) +4#2*np.arange(2,24,2)\n",
    "#numGrp=[4]\n",
    "result = []\n",
    "for num in numGrp:\n",
    "    calu = np.zeros(3)\n",
    "    for i in range(iters):\n",
    "        myint = np.random.randint(0,20000)\n",
    "        np.random.seed(myint)\n",
    "\n",
    "        Paxis = np.zeros((num,3))\n",
    "        Daxis = np.zeros((num,3))\n",
    "\n",
    "        xyz0 = np.array((x_axis,y_axis,z_axis)).squeeze()\n",
    "\n",
    "        dX = 0.03*100\n",
    "        dY = 0.03*100\n",
    "        dZ = 0.05*100\n",
    "        dL = 0.02*100  #0.02\n",
    "        # print(x_axis)\n",
    "        # print(y_axis)\n",
    "        # print(z_axis)\n",
    "        Daxis[:,0] = np.random.normal(0,dX,(num,))\n",
    "        Daxis[:,1] = np.random.normal(0,dY,(num,))\n",
    "        Daxis[:,2] = np.random.normal(0,dZ,(num,))\n",
    "        DL = np.random.normal(0,dL,(num,))\n",
    "        #print(DL)\n",
    "\n",
    "        dx0 = z_axis*np.tan(angle*np.pi/180)\n",
    "        dx1 = dx0 + 1000 #2500\n",
    "        #print(dx0, dx1)\n",
    "\n",
    "        #dz0 = z_axis*np.tan(40*np.pi/180)\n",
    "        #dz1 =dz0 +3000\n",
    "        \n",
    "        Paxis[:,0] = np.random.uniform(dx0, dx1,size =(num,))\n",
    "        #print(Paxis)\n",
    "        Paxis[:,1] = np.random.uniform(-1000, 1000,size =(num,))#np.random.uniform(0, 3000,size =(num,)) \n",
    "        #0 #np.random.uniform(dz0, dz1,size =(num//2,))\n",
    "        Paxis[:,2] = 0 #np.random.uniform(0, 0,size =(num,))  \n",
    "        #Paxis[:num//2+1,0] = -Paxis[:num//2+1,0]\n",
    "        Paxis[:num//2,0] = -Paxis[:num//2,0]\n",
    "        \n",
    "        distL0 = np.sqrt( (x_axis-Paxis[:,0])**2 + (y_axis-Paxis[:,1])**2+ (z_axis-Paxis[:,2])**2 )\n",
    "        #print(distL0)\n",
    "        distL1 = distL0 + DL\n",
    "        distL1 = distL1.reshape(num,1)\n",
    "        #print(distL1)\n",
    "        ##########################\n",
    "        #print(Paxis)\n",
    "        Paxis += Daxis\n",
    "        #print(Paxis)\n",
    "        results = []\n",
    "\n",
    "\n",
    "        def f5(x):\n",
    "            m = np.array((x[0],x[1],x[2]),dtype = np.float64).reshape(1,3)\n",
    "            minus = (m - Paxis)\n",
    "        #    print('###################')\n",
    "        #    print(Paxis)\n",
    "        #    print('#####################')\n",
    "            k = np.concatenate((minus**2, -distL1**2),axis = 1)\n",
    "            l = np.sum(k,keepdims = True,axis =1).reshape(-1,1)\n",
    "            return np.sum(l * minus,axis = 0)\n",
    "\n",
    "        #Sxyz_tmp = root(f5,[x_axis,y_axis,z_axis])\n",
    "\n",
    "        Sxyz = fsolve(f5,[x_axis,y_axis,z_axis])\n",
    "\n",
    "        #D1xyz = Sxyz_tmp.x -xyz0\n",
    "        Dxyz = (Sxyz - xyz0)**2\n",
    "        calu += Dxyz\n",
    "        #print(xyz0)\n",
    "        #print(Sxyz)\n",
    "    calu /= iters\n",
    "    #print(np.concatenate((np.array((num,)),np.sqrt(calu), np.sqrt(np.sum(calu)),np.sqrt(np.sum(calu[0:2])))))\n",
    "    result.append(num)\n",
    "    result += np.sqrt(calu).tolist()\n",
    "    result.append(np.sqrt(np.sum(calu)))\n",
    "    result.append(np.sqrt(np.sum(calu[0:2])))\n",
    "    print(num, np.sqrt(calu), np.sqrt(np.sum(calu)),np.sqrt(np.sum(calu[0:2])))\n",
    "        #print(D1xyz)"
   ]
  },
  {
   "cell_type": "code",
   "execution_count": 18,
   "metadata": {},
   "outputs": [],
   "source": [
    "result = pd.DataFrame(np.array(result).reshape(-1,6),columns=['NUM','σ_X','σ_Y','σ_Z','σ_R','σ_XY'],)\n",
    "file_path = 'C://Users//gao//Desktop//1.xlsx'\n",
    "writer = pd.ExcelWriter(file_path)\n",
    "result.to_excel(writer, index=False,encoding='utf-8',sheet_name='Sheet')\n",
    "writer.save()"
   ]
  },
  {
   "cell_type": "code",
   "execution_count": 53,
   "metadata": {},
   "outputs": [
    {
     "name": "stdout",
     "output_type": "stream",
     "text": [
      "4 [114.13341029 255.88362549 107.86266575] 300.2286125642999 280.1836275373938\n",
      "12 [32.89677429 71.76424535 32.12734656] 85.23186649184632 78.9449470743959\n",
      "20 [30.8008204  67.27915793 30.3384813 ] 79.97248950162435 73.99442971992025\n",
      "28 [21.88367708 47.01725313 21.02236756] 55.95942594405107 51.860557403279216\n",
      "36 [15.22178942 33.15575357 15.1751695 ] 39.5131957366685 36.482966821495275\n",
      "44 [14.44132625 31.2362585  12.90134208] 36.751875826347444 34.413017148562744\n",
      "52 [14.97093311 32.23092335 14.29347813] 38.304892319074796 35.53816622347996\n"
     ]
    }
   ],
   "source": [
    "###########正侧+前斜#######\n",
    "iters =20000\n",
    "angle = 40\n",
    "y_axis = 0\n",
    "z_axis = 10000\n",
    "x_axis = 0\n",
    "\n",
    "numGrp = 8*np.arange(0,7,1) +4#2*np.arange(2,24,2)\n",
    "#numGrp=[4]\n",
    "result = []\n",
    "for num in numGrp:\n",
    "    calu = np.zeros(3)\n",
    "    for i in range(iters):\n",
    "        myint = np.random.randint(0,20000)\n",
    "        np.random.seed(myint)\n",
    "\n",
    "        Paxis = np.zeros((num,3))\n",
    "        Daxis = np.zeros((num,3))\n",
    "\n",
    "        xyz0 = np.array((x_axis,y_axis,z_axis)).squeeze()\n",
    "\n",
    "        dX = 0.05*100\n",
    "        dY = 0.05*100\n",
    "        dZ = 0.05*100\n",
    "        dL = 0.03*100  #0.02\n",
    "        # print(x_axis)\n",
    "        # print(y_axis)\n",
    "        # print(z_axis)\n",
    "        Daxis[:,0] = np.random.normal(0,dX,(num,))\n",
    "        Daxis[:,1] = np.random.normal(0,dY,(num,))\n",
    "        Daxis[:,2] = np.random.normal(0,dZ,(num,))\n",
    "        DL = np.random.normal(0,dL,(num,))\n",
    "        #print(DL)\n",
    "\n",
    "        dx0 = z_axis*np.tan(angle*np.pi/180)\n",
    "        dx1 = dx0 + 2500 #2500\n",
    "        #print(dx0, dx1)\n",
    "\n",
    "        dz0 = z_axis*np.tan(40*np.pi/180)\n",
    "        dz1 =dz0 +1000\n",
    "        \n",
    "        Paxis[:,0] = np.random.uniform(dx0, dx1,size =(num,))\n",
    "        #print(Paxis)\n",
    "        Paxis[:num//2,1] = np.random.uniform(dz0, dz1,size =(num//2,))#np.random.uniform(0, 3000,size =(num,)) \n",
    "        #0 #np.random.uniform(dz0, dz1,size =(num//2,))\n",
    "        Paxis[:,2] = 0 #np.random.uniform(0, 0,size =(num,))  \n",
    "        #Paxis[:num//2+1,0] = -Paxis[:num//2+1,0]\n",
    "        Paxis[:num//2,0] = -Paxis[:num//2,0]\n",
    "        \n",
    "        distL0 = np.sqrt( (x_axis-Paxis[:,0])**2 + (y_axis-Paxis[:,1])**2+ (z_axis-Paxis[:,2])**2 )\n",
    "        #print(distL0)\n",
    "        distL1 = distL0 + DL\n",
    "        distL1 = distL1.reshape(num,1)\n",
    "        #print(distL1)\n",
    "        ##########################\n",
    "        #print(Paxis)\n",
    "        Paxis += Daxis\n",
    "        #print(Paxis)\n",
    "        results = []\n",
    "\n",
    "\n",
    "        def f5(x):\n",
    "            m = np.array((x[0],x[1],x[2]),dtype = np.float64).reshape(1,3)\n",
    "            minus = (m - Paxis)\n",
    "        #    print('###################')\n",
    "        #    print(Paxis)\n",
    "        #    print('#####################')\n",
    "            k = np.concatenate((minus**2, -distL1**2),axis = 1)\n",
    "            l = np.sum(k,keepdims = True,axis =1).reshape(-1,1)\n",
    "            return np.sum(l * minus,axis = 0)\n",
    "\n",
    "        #Sxyz_tmp = root(f5,[x_axis,y_axis,z_axis])\n",
    "\n",
    "        Sxyz = fsolve(f5,[x_axis,y_axis,z_axis])\n",
    "\n",
    "        #D1xyz = Sxyz_tmp.x -xyz0\n",
    "        Dxyz = (Sxyz - xyz0)**2\n",
    "        calu += Dxyz\n",
    "        #print(xyz0)\n",
    "        #print(Sxyz)\n",
    "    calu /= iters\n",
    "    #print(np.concatenate((np.array((num,)),np.sqrt(calu), np.sqrt(np.sum(calu)),np.sqrt(np.sum(calu[0:2])))))\n",
    "    result.append(num)\n",
    "    result += np.sqrt(calu).tolist()\n",
    "    result.append(np.sqrt(np.sum(calu)))\n",
    "    result.append(np.sqrt(np.sum(calu[0:2])))\n",
    "    print(num, np.sqrt(calu), np.sqrt(np.sum(calu)),np.sqrt(np.sum(calu[0:2])))\n",
    "        #print(D1xyz)"
   ]
  },
  {
   "cell_type": "code",
   "execution_count": 54,
   "metadata": {},
   "outputs": [],
   "source": [
    "result = pd.DataFrame(np.array(result).reshape(-1,6),columns=['NUM','σ_X','σ_Y','σ_Z','σ_R','σ_XY'],)\n",
    "file_path = 'C://Users//gao//Desktop//1.xlsx'\n",
    "writer = pd.ExcelWriter(file_path)\n",
    "result.to_excel(writer, index=False,encoding='utf-8',sheet_name='Sheet')\n",
    "writer.save()"
   ]
  },
  {
   "cell_type": "code",
   "execution_count": 149,
   "metadata": {},
   "outputs": [
    {
     "name": "stdout",
     "output_type": "stream",
     "text": [
      "(3, 6)\n",
      "[[-5.05207704e+08]\n",
      " [-4.81862312e+08]\n",
      " [-4.98217660e+08]]\n",
      "(3, 6)\n",
      "[[-5.04770168e+08]\n",
      " [-4.81435196e+08]\n",
      " [-4.97783200e+08]]\n"
     ]
    }
   ],
   "source": [
    "print(f6(Sxyz))\n",
    "print(f6(xyz0))"
   ]
  },
  {
   "cell_type": "code",
   "execution_count": 119,
   "metadata": {},
   "outputs": [
    {
     "ename": "IndentationError",
     "evalue": "unexpected indent (<ipython-input-119-d7280cd94844>, line 2)",
     "output_type": "error",
     "traceback": [
      "\u001b[1;36m  File \u001b[1;32m\"<ipython-input-119-d7280cd94844>\"\u001b[1;36m, line \u001b[1;32m2\u001b[0m\n\u001b[1;33m    results.append(np.sqrt(calu))\u001b[0m\n\u001b[1;37m    ^\u001b[0m\n\u001b[1;31mIndentationError\u001b[0m\u001b[1;31m:\u001b[0m unexpected indent\n"
     ]
    }
   ],
   "source": [
    "   \n",
    "    calu += (Sxyz - xyz0)**2\n",
    "        results.append(np.sqrt(calu))\n",
    "    results = np.array(results).reshape(-1,3)\n",
    "    \n",
    "    range_x1 = np.linspace(1,3*3,17)\n",
    "    plt.figure(k)\n",
    "    plt.title(\"%d\" %(num))\n",
    "    plt.plot(range_x1,results[:,0],'r',range_x1,results[:,1],'b',range_x1,results[:,2],'g')\n",
    "    print(k,results[5,0],results[5,1],results[5,2])"
   ]
  },
  {
   "cell_type": "code",
   "execution_count": 120,
   "metadata": {},
   "outputs": [
    {
     "data": {
      "text/plain": [
       "0.26794919243112275"
      ]
     },
     "execution_count": 120,
     "metadata": {},
     "output_type": "execute_result"
    }
   ],
   "source": [
    "(3-3**0.5)/(3+3**0.5)"
   ]
  },
  {
   "cell_type": "code",
   "execution_count": 71,
   "metadata": {},
   "outputs": [
    {
     "data": {
      "text/plain": [
       "array([[7182.40479878, 3907.26339744, 2922.96107164],\n",
       "       [7776.16831892, 3907.26339744, 2314.95756424],\n",
       "       [6858.63023588, 3907.26339744, 3236.07067848],\n",
       "       [9434.69548527, 3907.26339744,  668.9940166 ],\n",
       "       [8845.56673495, 3907.26339744, 1248.57987431],\n",
       "       [8666.13046671, 3907.26339744, 1431.72621587],\n",
       "       [8125.72088085, 3907.26339744, 1966.98919628],\n",
       "       [8129.30327613, 3907.26339744, 1960.79295835]])"
      ]
     },
     "execution_count": 71,
     "metadata": {},
     "output_type": "execute_result"
    }
   ],
   "source": [
    "axis"
   ]
  },
  {
   "cell_type": "code",
   "execution_count": 32,
   "metadata": {},
   "outputs": [],
   "source": []
  },
  {
   "cell_type": "code",
   "execution_count": null,
   "metadata": {},
   "outputs": [],
   "source": [
    "\n"
   ]
  },
  {
   "cell_type": "code",
   "execution_count": 78,
   "metadata": {},
   "outputs": [
    {
     "name": "stdout",
     "output_type": "stream",
     "text": [
      "[11188.88178083 11796.88528822 10875.77217398 13442.84883587]\n"
     ]
    }
   ],
   "source": [
    "num = 4\n",
    "np.random.seed(102)\n",
    "    #nois_dist = np.random.\n",
    "    #axis = np.random.uniform(low,high,(num,3))\n",
    "axis = np.zeros((num,3))\n",
    "y_axis = np.random.uniform(-20000,20000,size=(1,))\n",
    "z_axis = np.random.uniform(6000,18000,size =(1,))\n",
    "x_axis = np.random.uniform(-10000,10000,size =(1,))\n",
    "   # print(x_axis)\n",
    "   # print(y_axis)\n",
    "   # print(z_axis)\n",
    "axis[:,1] = y_axis\n",
    "axis[:,2] = np.random.uniform(0,4000,size =(num,))\n",
    "b = np.abs(z_axis-axis[:,2])\n",
    "print(b)\n",
    "axis[:,0] = np.random.uniform(6000,8500,size =(num,))# x_axis + np.abs(z_axis-axis[:,2]) +np.random.uniform(-10,10,(num,))\n",
    "\n",
    "#np.random.uniform((z_axis-axis[:,2]) /3**0.5,(z_axis-axis[:,2]) * 3**0.5)\n",
    "#np.random.uniform((x_axis-1,x_axis+1),3)\n",
    "gt = np.array((x_axis,y_axis,z_axis)).squeeze()\n",
    "#slope_distance= np.random.randint(10,20,cal).reshape(cal,1)\n",
    "slope_distance = np.sqrt((x_axis-axis[:,0])**2 + (z_axis-axis[:,2])**2) .reshape(num,1)"
   ]
  },
  {
   "cell_type": "code",
   "execution_count": 79,
   "metadata": {},
   "outputs": [
    {
     "data": {
      "text/plain": [
       "array([[6780.36242144, 3907.26339744, 2922.96107164],\n",
       "       [6894.82888492, 3907.26339744, 2314.95756424],\n",
       "       [7229.36824768, 3907.26339744, 3236.07067848],\n",
       "       [7225.49559897, 3907.26339744,  668.9940166 ]])"
      ]
     },
     "execution_count": 79,
     "metadata": {},
     "output_type": "execute_result"
    }
   ],
   "source": [
    "axis"
   ]
  },
  {
   "cell_type": "code",
   "execution_count": 80,
   "metadata": {},
   "outputs": [
    {
     "data": {
      "text/plain": [
       "[<matplotlib.lines.Line2D at 0x20b7bb2e148>,\n",
       " <matplotlib.lines.Line2D at 0x20b7bdf5108>,\n",
       " <matplotlib.lines.Line2D at 0x20b7be01d08>]"
      ]
     },
     "execution_count": 80,
     "metadata": {},
     "output_type": "execute_result"
    },
    {
     "data": {
      "image/png": "[encoded data removed]",
      "text/plain": [
       "<Figure size 432x288 with 1 Axes>"
      ]
     },
     "metadata": {
      "needs_background": "light"
     },
     "output_type": "display_data"
    }
   ],
   "source": [
    "iter = 100\n",
    "range_x1 = np.linspace(1,9,17)\n",
    "results = []\n",
    "for sigma in range_x1:\n",
    "    calu = np.zeros(3)\n",
    "    for i in range(iter):\n",
    "        gussian_noise = np.random.normal(0,sigma,size=(num,1))\n",
    "        dectected_slope = slope_distance + gussian_noise\n",
    "        sol4_root = root(f5,[x_axis,y_axis,z_axis])#,method='hybr')\n",
    "        sol4_fsolve = fsolve(f5,[x_axis,y_axis,z_axis])\n",
    "        calu += (sol4_fsolve-gt)**2\n",
    "    calu /= iter\n",
    "    results.append(np.sqrt(calu))\n",
    "results = np.array(results).reshape(-1,3)\n",
    "plt.figure(1)\n",
    "plt.title(\"%d\" %(num))\n",
    "plt.plot(range_x1,results[:,0],'r',range_x1,results[:,1],'b',range_x1,results[:,2],'g')"
   ]
  },
  {
   "cell_type": "code",
   "execution_count": 81,
   "metadata": {},
   "outputs": [
    {
     "name": "stdout",
     "output_type": "stream",
     "text": [
      "[1.  1.5 2.  2.5 3.  3.5 4.  4.5 5.  5.5 6.  6.5 7.  7.5 8.  8.5 9. ]\n",
      "[[10.11902189  0.          9.42666111]\n",
      " [14.49332217  0.         13.7541659 ]\n",
      " [18.03956248  0.         16.98406218]\n",
      " [22.92453384  0.         21.31950166]\n",
      " [26.94352029  0.         25.4359226 ]\n",
      " [34.18724255  0.         31.8402409 ]\n",
      " [37.75055436  0.         35.59649382]\n",
      " [42.73360502  0.         40.15570045]\n",
      " [49.67562627  0.         46.38332158]\n",
      " [49.29132894  0.         46.12750264]\n",
      " [57.32803022  0.         53.99289387]\n",
      " [61.53511121  0.         57.26745338]\n",
      " [62.3907509   0.         58.61508609]\n",
      " [62.82262767  0.         59.31728498]\n",
      " [79.01328043  0.         74.22957848]\n",
      " [73.78313403  0.         69.40305974]\n",
      " [86.00698816  0.         80.36091694]]\n"
     ]
    }
   ],
   "source": [
    "print(range_x1)\n",
    "print(results)"
   ]
  },
  {
   "cell_type": "code",
   "execution_count": 3,
   "metadata": {},
   "outputs": [
    {
     "ename": "SyntaxError",
     "evalue": "invalid syntax (<ipython-input-3-b5958880b1ec>, line 2)",
     "output_type": "error",
     "traceback": [
      "\u001b[1;36m  File \u001b[1;32m\"<ipython-input-3-b5958880b1ec>\"\u001b[1;36m, line \u001b[1;32m2\u001b[0m\n\u001b[1;33m    while cmt--:\u001b[0m\n\u001b[1;37m               ^\u001b[0m\n\u001b[1;31mSyntaxError\u001b[0m\u001b[1;31m:\u001b[0m invalid syntax\n"
     ]
    }
   ],
   "source": [
    "cmt = 10\n",
    "while cmt--:\n",
    "    print(1)"
   ]
  },
  {
   "cell_type": "code",
   "execution_count": 21,
   "metadata": {},
   "outputs": [
    {
     "name": "stdout",
     "output_type": "stream",
     "text": [
      "[31.48469453  0.39942985 33.33081942]\n",
      "[22.62979084  0.34973027 23.87993926]\n",
      "[1.91635543e+01 4.13041537e-06 2.04958750e+01]\n",
      "[1.56530201e+01 5.49719986e-03 1.65614459e+01]\n",
      "[1.49855590e+01 1.45022016e-05 1.59310082e+01]\n",
      "[1.37735743e+01 7.19550627e-04 1.44625340e+01]\n",
      "[1.23773873e+01 1.34166512e-05 1.32827954e+01]\n",
      "[11.61100686  0.02121365 12.19345787]\n",
      "[1.08648467e+01 4.21813874e-05 1.16488048e+01]\n",
      "[9.86497438e+00 9.89703124e-06 1.05320623e+01]\n"
     ]
    }
   ],
   "source": [
    "count =100\n",
    "results=[]\n",
    "for i in range(10):\n",
    "    results.append([])\n",
    "while (count):\n",
    "    myint = np.random.randint(0,10000)\n",
    "    #print(myint)\n",
    "    for k in range (3,13):\n",
    "        num = k\n",
    "        np.random.seed(myint)\n",
    "        #nois_dist = np.random.\n",
    "        #axis = np.random.uniform(low,high,(num,3))\n",
    "        axis = np.zeros((num,3))\n",
    "        y_axis = np.random.uniform(-20000,20000,size=(1,))\n",
    "        z_axis = np.random.uniform(6000,18000,size =(1,))\n",
    "        x_axis = np.random.uniform(-10000,10000,size =(1,))\n",
    "       # print(x_axis)\n",
    "       # print(y_axis)\n",
    "       # print(z_axis)\n",
    "        axis[:,1] = y_axis\n",
    "        axis[:,2] = np.random.uniform(0,4000,size =(num,))\n",
    "        axis[:,0] = np.random.uniform(x_axis+10000,x_axis+12500,size =(num,))#np.random.uniform(4000,6500,size =(num,)) #np.random.uniform(6000,8500,size =(num,))\n",
    "        #np.random.uniform(8000,10500,size =(num,)) #np.random.uniform(-1400,1100,size =(num,))\n",
    "        #axis[:,0] = x_axis + np.abs(z_axis-axis[:,2]) +np.random.uniform(-10,10,(num,))\n",
    "        #np.random.uniform((z_axis-axis[:,2]) /3**0.5,(z_axis-axis[:,2]) * 3**0.5)\n",
    "        #np.random.uniform((x_axis-1,x_axis+1),3)\n",
    "        gt = np.array((x_axis,y_axis,z_axis)).squeeze()\n",
    "        #slope_distance= np.random.randint(10,20,cal).reshape(cal,1)\n",
    "        slope_distance = np.sqrt((x_axis-axis[:,0])**2 + (z_axis-axis[:,2])**2) .reshape(num,1)\n",
    "        iter = 10\n",
    "        #range_x1 = np.linspace(1,9,17)\n",
    "        \n",
    "        #range_x1:\n",
    "        calu = np.zeros(3)\n",
    "        sigma =3.0\n",
    "        for i in range(iter):\n",
    "            gussian_noise = np.random.normal(0,sigma,size=(num,1))\n",
    "            dectected_slope = slope_distance + gussian_noise\n",
    "            sol4_root = root(f5,[x_axis,y_axis,z_axis])#,method='hybr')\n",
    "            sol4_fsolve = fsolve(f5,[x_axis,y_axis,z_axis])\n",
    "            calu += (sol4_fsolve-gt)**2\n",
    "        calu /= iter\n",
    "        results[k-3].append(np.sqrt(calu))\n",
    "    count -= 1\n",
    "for j in range(10):\n",
    "    results[j] = np.array(results[j]).reshape(-1,3)\n",
    "    results[j] = np.mean(results[j],axis = 0)\n",
    "    print(results[j])\n",
    "        #plt.figure(k)\n",
    "        #plt.title(\"%d\" %(num))\n",
    "        #plt.plot(range_x1,results[:,0],'r',range_x1,results[:,1],'b',range_x1,results[:,2],'g')"
   ]
  },
  {
   "cell_type": "code",
   "execution_count": 16,
   "metadata": {},
   "outputs": [
    {
     "data": {
      "text/plain": [
       "array([0. , 1.5, 3. , 4.5])"
      ]
     },
     "execution_count": 16,
     "metadata": {},
     "output_type": "execute_result"
    }
   ],
   "source": [
    "np.linspace(0,4.5,4)"
   ]
  },
  {
   "cell_type": "code",
   "execution_count": 16,
   "metadata": {},
   "outputs": [
    {
     "data": {
      "text/plain": [
       "[array([ 7.93905316,  0.        , 13.36177116]),\n",
       " array([10.56601648,  0.        , 17.66983455]),\n",
       " array([ 7.4386378,  0.       , 12.5274809]),\n",
       " array([ 9.76486018,  0.        , 16.43237519]),\n",
       " array([5.87627917, 0.        , 9.96960922]),\n",
       " array([ 6.49009916,  0.        , 11.66786325]),\n",
       " array([ 6.88698535,  0.        , 12.12525984]),\n",
       " array([ 5.77138035,  0.        , 10.29004604]),\n",
       " array([5.42950936, 0.        , 9.94326416]),\n",
       " [array([5.29185822, 0.        , 9.19089388])]]"
      ]
     },
     "execution_count": 16,
     "metadata": {},
     "output_type": "execute_result"
    }
   ],
   "source": [
    "np.random.seed(1)\n",
    "    #nois_dist = np.random.\n",
    "    #axis = np.random.uniform(low,high,(num,3))\n",
    "print(np.random.uniform(-20000,20000,size=(1,)))\n",
    "print(np.random.uniform(6000,18000,size =(1,)))\n",
    "print(np.random.uniform(-10000,10000,size =(1,)))\n",
    "np.random.uniform(0,4000,size =(12,))"
   ]
  },
  {
   "cell_type": "code",
   "execution_count": 9,
   "metadata": {},
   "outputs": [
    {
     "name": "stdout",
     "output_type": "stream",
     "text": [
      "[50.18070507  1.48067788 55.46994469]\n",
      "[50.18070507  1.48067788 55.46994469]\n",
      "[50.18070507  1.48067788 55.46994469]\n",
      "[50.18070507  1.48067788 55.46994469]\n"
     ]
    }
   ],
   "source": [
    "#####画表版\n",
    "count =100\n",
    "results=[]\n",
    "for i in range(4):\n",
    "    results.append([])\n",
    "while (count):\n",
    "    myint = np.random.randint(0,10000)\n",
    "    #print(myint)\n",
    "    #for k in range (1,5):\n",
    "        num = 12\n",
    "        np.random.seed(myint)\n",
    "        #nois_dist = np.random.\n",
    "        #axis = np.random.uniform(low,high,(num,3))\n",
    "        axis = np.zeros((num,3))\n",
    "        y_axis = np.random.uniform(-20000,20000,size=(1,)) #+1500*k\n",
    "        z_axis = np.random.uniform(8000,18000,size =(1,))\n",
    "        x_axis = np.random.uniform(-10000,10000,size =(1,))\n",
    "        gt = np.repeat(np.array((x_axis,y_axis,z_axis)).reshape(1,3),4,axis = 0)\n",
    "        gt[:,1] += np.linspace(0,4.5,4)\n",
    "        \n",
    "       # print(x_axis)\n",
    "       # print(y_axis)\n",
    "       # print(z_axis)\n",
    "        axis[:,1] = y_axis\n",
    "        axis[:,2] = np.random.uniform(0,2000,size =(num,))\n",
    "        axis[:,0] = np.random.uniform(x_axis+10000,x_axis+12500,size =(num,))#np.random.uniform(4000,6500,size =(num,)) #np.random.uniform(6000,8500,size =(num,))\n",
    "        #np.random.uniform(8000,10500,size =(num,)) #np.random.uniform(-1400,1100,size =(num,))\n",
    "        #axis[:,0] = x_axis + np.abs(z_axis-axis[:,2]) +np.random.uniform(-10,10,(num,))\n",
    "        #np.random.uniform((z_axis-axis[:,2]) /3**0.5,(z_axis-axis[:,2]) * 3**0.5)\n",
    "        #np.random.uniform((x_axis-1,x_axis+1),3)\n",
    "        \n",
    "        #slope_distance= np.random.randint(10,20,cal).reshape(cal,1)\n",
    "        slope_distance = np.sqrt((x_axis-axis[:,0])**2 + (z_axis-axis[:,2])**2) .reshape(num,1)\n",
    "        iter = 10\n",
    "        #range_x1 = np.linspace(1,9,17)\n",
    "        \n",
    "        #range_x1:\n",
    "        calu = np.zeros(3)\n",
    "        sigma =3.0\n",
    "        for i in range(iter):\n",
    "            gussian_noise = np.random.normal(0,sigma,size=(num,1))\n",
    "            dectected_slope = slope_distance + gussian_noise\n",
    "            sol4_root = root(f5,[x_axis,y_axis,z_axis])#,method='hybr')\n",
    "            sol4_fsolve = fsolve(f5,[x_axis,y_axis,z_axis])\n",
    "            calu += (sol4_fsolve-gt)**2\n",
    "        calu /= iter\n",
    "        results[k-1].append(np.sqrt(calu))\n",
    "    count -= 1\n",
    "for j in range(4):\n",
    "    results[j] = np.array(results[j]).reshape(-1,3)\n",
    "    results[j] = np.mean(results[j],axis = 0)\n",
    "    print(results[j])\n",
    "        #plt.figure(k)\n",
    "        #plt.title(\"%d\" %(num))\n",
    "        #plt.plot(range_x1,results[:,0],'r',range_x1,results[:,1],'b',range_x1,results[:,2],'g')"
   ]
  },
  {
   "cell_type": "code",
   "execution_count": 31,
   "metadata": {},
   "outputs": [
    {
     "data": {
      "text/plain": [
       "[<matplotlib.lines.Line2D at 0x20b79b728c8>,\n",
       " <matplotlib.lines.Line2D at 0x20b79bad8c8>,\n",
       " <matplotlib.lines.Line2D at 0x20b79badd48>]"
      ]
     },
     "execution_count": 31,
     "metadata": {},
     "output_type": "execute_result"
    },
    {
     "data": {
      "image/png": "[encoded data removed]",
      "text/plain": [
       "<Figure size 432x288 with 1 Axes>"
      ]
     },
     "metadata": {
      "needs_background": "light"
     },
     "output_type": "display_data"
    }
   ],
   "source": [
    "iter = 100\n",
    "range_x1 = np.linspace(1,9,17)\n",
    "results = []\n",
    "for sigma in range_x1:\n",
    "    calu = np.zeros(3)\n",
    "    for i in range(iter):\n",
    "        gussian_noise = np.random.normal(0,sigma,size=(num,1))\n",
    "        dectected_slope = slope_distance + gussian_noise\n",
    "        sol4_root = root(f5,[x_axis,y_axis,z_axis])#,method='hybr')\n",
    "        sol4_fsolve = fsolve(f5,[x_axis,y_axis,z_axis])\n",
    "        calu += (sol4_fsolve-gt)**2\n",
    "    calu /= iter\n",
    "    results.append(np.sqrt(calu))\n",
    "results = np.array(results).reshape(-1,3)\n",
    "plt.figure(1)\n",
    "plt.title(\"%d\" %(num))\n",
    "plt.plot(range_x1,results[:,0],'r',range_x1,results[:,1],'b',range_x1,results[:,2],'g')"
   ]
  },
  {
   "cell_type": "code",
   "execution_count": 40,
   "metadata": {},
   "outputs": [
    {
     "data": {
      "text/plain": [
       "array([[0.37084577, 0.        , 0.37081952],\n",
       "       [0.57119398, 0.        , 0.57118943],\n",
       "       [0.69938651, 0.        , 0.69937278],\n",
       "       [0.83812614, 0.        , 0.83817531],\n",
       "       [0.92297803, 0.        , 0.92299833],\n",
       "       [1.16716537, 0.        , 1.16715084],\n",
       "       [1.56187693, 0.        , 1.5618744 ],\n",
       "       [1.63753286, 0.        , 1.63752307],\n",
       "       [1.94840809, 0.        , 1.948404  ],\n",
       "       [2.0011161 , 0.        , 2.001074  ],\n",
       "       [2.05537186, 0.        , 2.05535391],\n",
       "       [2.2244824 , 0.        , 2.22448162],\n",
       "       [2.48512145, 0.        , 2.48514157],\n",
       "       [2.38039182, 0.        , 2.38040223],\n",
       "       [2.60731285, 0.        , 2.60730693],\n",
       "       [2.75396487, 0.        , 2.75398378],\n",
       "       [3.32399209, 0.        , 3.32399482]])"
      ]
     },
     "execution_count": 40,
     "metadata": {},
     "output_type": "execute_result"
    }
   ],
   "source": [
    "results"
   ]
  },
  {
   "cell_type": "code",
   "execution_count": 39,
   "metadata": {},
   "outputs": [
    {
     "data": {
      "text/plain": [
       "[<matplotlib.lines.Line2D at 0x20b79f49908>,\n",
       " <matplotlib.lines.Line2D at 0x20b79f50948>,\n",
       " <matplotlib.lines.Line2D at 0x20b79f50bc8>]"
      ]
     },
     "execution_count": 39,
     "metadata": {},
     "output_type": "execute_result"
    },
    {
     "data": {
      "image/png": "[encoded data removed]",
      "text/plain": [
       "<Figure size 432x288 with 1 Axes>"
      ]
     },
     "metadata": {
      "needs_background": "light"
     },
     "output_type": "display_data"
    }
   ],
   "source": [
    "iter = 100\n",
    "range_x1 = np.linspace(1,9,17)\n",
    "results = []\n",
    "for sigma in range_x1:\n",
    "    calu = np.zeros(3)\n",
    "    for i in range(iter):\n",
    "        gussian_noise = np.random.normal(0,sigma,size=(num,1))\n",
    "        dectected_slope = slope_distance + gussian_noise\n",
    "        sol4_root = root(f5,[x_axis,y_axis,z_axis])#,method='hybr')\n",
    "        sol4_fsolve = fsolve(f5,[x_axis,y_axis,z_axis])\n",
    "        calu += (sol4_fsolve-gt)**2\n",
    "    calu /= iter\n",
    "    results.append(np.sqrt(calu))\n",
    "results = np.array(results).reshape(-1,3)\n",
    "plt.figure(1)\n",
    "plt.plot(range_x1,results[:,0],'r',range_x1,results[:,1],'b',range_x1,results[:,2],'g')"
   ]
  },
  {
   "cell_type": "code",
   "execution_count": 22,
   "metadata": {},
   "outputs": [
    {
     "data": {
      "text/plain": [
       "array([[0.29770537, 0.        , 0.29769793],\n",
       "       [0.48703619, 0.        , 0.48701882],\n",
       "       [0.56746498, 0.        , 0.56749738],\n",
       "       [0.74591266, 0.        , 0.7459098 ],\n",
       "       [0.8295017 , 0.        , 0.82950123],\n",
       "       [1.12314019, 0.        , 1.12313439],\n",
       "       [1.1011735 , 0.        , 1.10113306],\n",
       "       [1.28848294, 0.        , 1.28847998],\n",
       "       [1.40248342, 0.        , 1.40251827],\n",
       "       [1.57523363, 0.        , 1.57522752],\n",
       "       [1.58804903, 0.        , 1.58805666],\n",
       "       [2.06828277, 0.        , 2.06830618],\n",
       "       [2.02486808, 0.        , 2.02487966],\n",
       "       [2.1310495 , 0.        , 2.13105431],\n",
       "       [2.17160721, 0.        , 2.17159802],\n",
       "       [2.38031159, 0.        , 2.38032129],\n",
       "       [2.6754533 , 0.        , 2.67547813]])"
      ]
     },
     "execution_count": 22,
     "metadata": {},
     "output_type": "execute_result"
    }
   ],
   "source": [
    "results ####4"
   ]
  },
  {
   "cell_type": "code",
   "execution_count": 35,
   "metadata": {},
   "outputs": [
    {
     "data": {
      "text/plain": [
       "[<matplotlib.lines.Line2D at 0x20b7a280fc8>,\n",
       " <matplotlib.lines.Line2D at 0x20b7a3003c8>,\n",
       " <matplotlib.lines.Line2D at 0x20b7a300708>]"
      ]
     },
     "execution_count": 35,
     "metadata": {},
     "output_type": "execute_result"
    },
    {
     "data": {
      "image/png": "[encoded data removed]",
      "text/plain": [
       "<Figure size 432x288 with 1 Axes>"
      ]
     },
     "metadata": {
      "needs_background": "light"
     },
     "output_type": "display_data"
    }
   ],
   "source": [
    "iter = 100\n",
    "range_x1 = np.linspace(1,9,17)\n",
    "results = []\n",
    "for sigma in range_x1:\n",
    "    calu = np.zeros(3)\n",
    "    for i in range(iter):\n",
    "        gussian_noise = np.random.normal(0,sigma,size=(num,1))\n",
    "        dectected_slope = slope_distance + gussian_noise\n",
    "        sol4_root = root(f5,[x_axis,y_axis,z_axis])#,method='hybr')\n",
    "        sol4_fsolve = fsolve(f5,[x_axis,y_axis,z_axis])\n",
    "        calu += (sol4_fsolve-gt)**2\n",
    "    calu /= iter\n",
    "    results.append(np.sqrt(calu))\n",
    "results = np.array(results).reshape(-1,3)\n",
    "plt.figure(1)\n",
    "plt.title(\"%d\" %(num))\n",
    "plt.plot(range_x1,results[:,0],'r',range_x1,results[:,1],'b',range_x1,results[:,2],'g')"
   ]
  },
  {
   "cell_type": "code",
   "execution_count": 36,
   "metadata": {},
   "outputs": [
    {
     "data": {
      "text/plain": [
       "array([[0.30990996, 0.        , 0.30991397],\n",
       "       [0.51641654, 0.        , 0.51641679],\n",
       "       [0.60039239, 0.        , 0.60042056],\n",
       "       [0.75299696, 0.        , 0.75300848],\n",
       "       [0.8915473 , 0.        , 0.89153156],\n",
       "       [0.99579858, 0.        , 0.9957915 ],\n",
       "       [1.13481181, 0.        , 1.13478367],\n",
       "       [1.50994607, 0.        , 1.50992315],\n",
       "       [1.50365299, 0.        , 1.50364546],\n",
       "       [1.77070908, 0.        , 1.77070847],\n",
       "       [2.05323799, 0.        , 2.05327385],\n",
       "       [1.94164791, 0.        , 1.94165919],\n",
       "       [2.26691584, 0.        , 2.26691862],\n",
       "       [2.48499527, 0.        , 2.48498591],\n",
       "       [2.71726379, 0.        , 2.71727408],\n",
       "       [2.70465684, 0.        , 2.70467874],\n",
       "       [2.68369105, 0.        , 2.68367369]])"
      ]
     },
     "execution_count": 36,
     "metadata": {},
     "output_type": "execute_result"
    }
   ],
   "source": [
    "results"
   ]
  },
  {
   "cell_type": "code",
   "execution_count": null,
   "metadata": {},
   "outputs": [],
   "source": [
    "iter = 100\n",
    "range_x1 = np.linspace(1,9,17)\n",
    "results = []\n",
    "for sigma in range_x1:\n",
    "    calu = np.zeros(3)\n",
    "    for i in range(iter):\n",
    "        gussian_noise = np.random.normal(0,sigma,size=(num,1))\n",
    "        dectected_slope = slope_distance + gussian_noise\n",
    "        sol4_root = root(f5,[x_axis,y_axis,z_axis])#,method='hybr')\n",
    "        sol4_fsolve = fsolve(f5,[x_axis,y_axis,z_axis])\n",
    "        calu += (sol4_fsolve-gt)**2\n",
    "    calu /= iter\n",
    "    results.append(np.sqrt(calu))\n",
    "results = np.array(results).reshape(-1,3)\n",
    "plt.figure(1)\n",
    "plt.title(\"%d\" %(num))\n",
    "plt.plot(range_x1,results[:,0],'r',range_x1,results[:,1],'b',range_x1,results[:,2],'g')"
   ]
  },
  {
   "cell_type": "code",
   "execution_count": 62,
   "metadata": {},
   "outputs": [],
   "source": [
    "def f5(x):\n",
    "    m = np.array((x[0],x[1],x[2]),dtype = np.float64).reshape(1,3)\n",
    "    minus = (m - Paxis)\n",
    "    k = np.concatenate((minus**2, -distL1**2),axis = 1)\n",
    "    l = np.sum(k,keepdims = True,axis =1).reshape(-1,1)\n",
    "    return np.sum(l * minus,axis = 0)"
   ]
  },
  {
   "cell_type": "code",
   "execution_count": 77,
   "metadata": {},
   "outputs": [],
   "source": [
    "Paxis = np.array((0,0,1,0,0,-1,1,0,0,-1,0,0)).reshape(4,3)\n",
    "distL1 = np.array((1,1,1,1)).reshape(4,1)\n",
    "sol4_root = root(f5,[233,323,233])#,method='hybr')\n",
    "sol4_fsolve = fsolve(f5,[233,323,233])"
   ]
  },
  {
   "cell_type": "code",
   "execution_count": 78,
   "metadata": {},
   "outputs": [
    {
     "data": {
      "text/plain": [
       "array([-3.63750972e-17,  0.00000000e+00, -3.47370894e-27])"
      ]
     },
     "execution_count": 78,
     "metadata": {},
     "output_type": "execute_result"
    }
   ],
   "source": [
    "sol4_fsolve"
   ]
  },
  {
   "cell_type": "code",
   "execution_count": null,
   "metadata": {},
   "outputs": [],
   "source": []
  }
 ],
 "metadata": {
  "kernelspec": {
   "display_name": "Python 3",
   "language": "python",
   "name": "python3"
  },
  "language_info": {
   "codemirror_mode": {
    "name": "ipython",
    "version": 3
   },
   "file_extension": ".py",
   "mimetype": "text/x-python",
   "name": "python",
   "nbconvert_exporter": "python",
   "pygments_lexer": "ipython3",
   "version": "3.7.4"
  }
 },
 "nbformat": 4,
 "nbformat_minor": 4
}
